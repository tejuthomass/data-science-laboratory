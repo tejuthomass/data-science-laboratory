{
 "cells": [
  {
   "cell_type": "markdown",
   "id": "a0f7edc1",
   "metadata": {},
   "source": [
    "# Basics"
   ]
  },
  {
   "cell_type": "code",
   "execution_count": 52,
   "id": "10cd0026",
   "metadata": {},
   "outputs": [
    {
     "name": "stdout",
     "output_type": "stream",
     "text": [
      "Array is of type: <class 'numpy.ndarray'>\n",
      "No. of dimensions: 2\n",
      "Shape of array: (2, 3)\n",
      "Size of array: 6\n",
      "Array stores elements of type: int32\n"
     ]
    }
   ],
   "source": [
    "import numpy as np\n",
    "arr = np.array([[1, 2, 3], [4, 2, 5]])\n",
    "print(\"Array is of type:\", type(arr))\n",
    "print(\"No. of dimensions:\", arr.ndim)\n",
    "print(\"Shape of array:\", arr.shape)\n",
    "print(\"Size of array:\", arr.size)\n",
    "print(\"Array stores elements of type:\", arr.dtype)"
   ]
  },
  {
   "cell_type": "markdown",
   "id": "6fb9a80e",
   "metadata": {},
   "source": [
    "# Array Slicing 1"
   ]
  },
  {
   "cell_type": "code",
   "execution_count": 53,
   "id": "5e2c01bd",
   "metadata": {},
   "outputs": [
    {
     "name": "stdout",
     "output_type": "stream",
     "text": [
      "Before Slicing\n",
      "[[1 2 3]\n",
      " [3 4 5]\n",
      " [4 5 6]]\n",
      "After Slicing\n",
      "[[3 4 5]\n",
      " [4 5 6]]\n"
     ]
    }
   ],
   "source": [
    "a = np.array([[1, 2, 3], [3, 4, 5], [4, 5, 6]])\n",
    "print(\"Before Slicing\")\n",
    "print(a)\n",
    "print(\"After Slicing\")\n",
    "print(a[1:])"
   ]
  },
  {
   "cell_type": "markdown",
   "id": "4b2c2745",
   "metadata": {},
   "source": [
    "# Array Slicing 2"
   ]
  },
  {
   "cell_type": "code",
   "execution_count": 54,
   "id": "308269b1",
   "metadata": {},
   "outputs": [
    {
     "name": "stdout",
     "output_type": "stream",
     "text": [
      "Our array is:\n",
      "[[1 2 3]\n",
      " [3 4 5]\n",
      " [4 5 6]]\n",
      "\n",
      "The items in the second column are:\n",
      "[2 4 5]\n",
      "\n",
      "The items in the second row are:\n",
      "[3 4 5]\n",
      "\n",
      "The items from column 1 onwards are:\n",
      "[[2 3]\n",
      " [4 5]\n",
      " [5 6]]\n"
     ]
    }
   ],
   "source": [
    "a = np.array([[1, 2, 3], [3, 4, 5], [4, 5, 6]])\n",
    "print('Our array is:')\n",
    "print(a)\n",
    "print('\\nThe items in the second column are:')\n",
    "print(a[..., 1])\n",
    "print ('\\nThe items in the second row are:')\n",
    "print(a[1, ...])\n",
    "print('\\nThe items from column 1 onwards are:')\n",
    "print(a[..., 1:])"
   ]
  }
 ],
 "metadata": {
  "kernelspec": {
   "display_name": "Python 3 (ipykernel)",
   "language": "python",
   "name": "python3"
  },
  "language_info": {
   "codemirror_mode": {
    "name": "ipython",
    "version": 3
   },
   "file_extension": ".py",
   "mimetype": "text/x-python",
   "name": "python",
   "nbconvert_exporter": "python",
   "pygments_lexer": "ipython3",
   "version": "3.10.7"
  }
 },
 "nbformat": 4,
 "nbformat_minor": 5
}
